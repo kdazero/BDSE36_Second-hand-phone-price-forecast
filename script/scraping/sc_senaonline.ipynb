{
 "cells": [
  {
   "cell_type": "code",
   "execution_count": 23,
   "metadata": {},
   "outputs": [
    {
     "name": "stdout",
     "output_type": "stream",
     "text": [
      "沒有彈出警告框\n"
     ]
    }
   ],
   "source": [
    "# 匯入套件\n",
    "from bs4 import BeautifulSoup as bs\n",
    "\n",
    "# 強制等待 (執行期間休息一下)\n",
    "from time import sleep\n",
    "\n",
    "# 操作 browser 的 API\n",
    "from selenium.webdriver.chrome.service import Service\n",
    "from selenium import webdriver\n",
    "\n",
    "# 處理逾時例外的工具\n",
    "from selenium.common.exceptions import TimeoutException\n",
    "\n",
    "# 面對動態網頁，等待某個元素出現的工具，通常與 exptected_conditions 搭配\n",
    "from selenium.webdriver.support.ui import WebDriverWait\n",
    "\n",
    "# 搭配 WebDriverWait 使用，對元素狀態的一種期待條件，若條件發生，則等待結束，往下一行執行\n",
    "from selenium.webdriver.support import expected_conditions as EC\n",
    "\n",
    "# 期待元素出現要透過什麼方式指定，通常與 EC、WebDriverWait 一起使用\n",
    "from selenium.webdriver.common.by import By\n",
    "\n",
    "#處理瀏覽器的警告視窗\n",
    "from selenium.webdriver.common.alert import Alert\n",
    "\n",
    "\n",
    "\n",
    "# 使用 Chrome 的 WebDriver\n",
    "'''\n",
    "my_service = Service(executable_path=\"./chromedriver.exe\")\n",
    "driver = webdriver.Chrome(service=my_service)\n",
    "'''\n",
    "\n",
    "# 補充: 若沒有特別設定，只要電腦有安裝 Chrome，就可以直接使用\n",
    "driver = webdriver.Chrome()\n",
    "\n",
    "# 開啟神腦福利手機頁面\n",
    "driver.get(\"https://online.senao.com.tw/Category/2/GP2207-001?sort=1&page=1\")\n",
    "\n",
    "# 等待元素出現的時間，這裡設定最多等待 20 秒鐘\n",
    "wait = WebDriverWait(driver, 20)\n",
    "\n",
    "# 等待新頁面加載完成，假設列表標題元素會在新頁面中加載\n",
    "wait.until(EC.presence_of_element_located((By.CSS_SELECTOR, \"li.next\")))\n",
    "\n",
    "# 取得檢視原始碼的內容 (page_source 取得的 html，是動態的、使用者操作過後的結果)\n",
    "html = driver.page_source\n",
    "\n",
    "# 印出 html (也可以跟 Beautifulsoup 整合)\n",
    "# print(html)\n",
    "\n",
    "# 指定 lxml 作為解析器\n",
    "soup = bs(html, \"lxml\")\n",
    "\n",
    "# 等待彈出窗口出現\n",
    "try:\n",
    "    # 切換到警告框並接受或關閉\n",
    "    alert = Alert(driver)\n",
    "    alert.accept()  # 點擊確定\n",
    "    # 或者使用 alert.dismiss() 來取消\n",
    "except:\n",
    "    print(\"沒有彈出警告框\")\n",
    "\n",
    "\n",
    "# 建立 list 來放置列表資訊\n",
    "list_posts = []\n"
   ]
  },
  {
   "cell_type": "markdown",
   "metadata": {},
   "source": [
    "#### soup + selenium"
   ]
  },
  {
   "cell_type": "code",
   "execution_count": null,
   "metadata": {},
   "outputs": [],
   "source": [
    "# 清空放置列表資訊的變數\n",
    "list_posts.clear()\n",
    "\n",
    "import json\n",
    "\n",
    "count=1\n",
    "while True:\n",
    "    sleep(1)\n",
    "    print(count)\n",
    "    html = driver.page_source\n",
    "    soup = bs(html, \"lxml\")\n",
    "    for b in soup.select('a.cycle-title-link'):\n",
    "        print(b.get_text())\n",
    "        #print('https://online.senao.com.tw' + b['href']) \n",
    "        list_posts.append({\n",
    "            'title': b.get_text(),\n",
    "            'link': 'https://online.senao.com.tw' + b['href']\n",
    "        })\n",
    "\n",
    "    with open('posts_data.json', 'w', encoding='utf-8') as f:\n",
    "        json.dump(list_posts, f, ensure_ascii=False, indent=4)\n",
    "    \n",
    "    count +=1\n",
    "    sleep(0.5)\n",
    "    try :\n",
    "        fin = driver.find_element(By.CSS_SELECTOR, \"li.next.disabled\")\n",
    "        break\n",
    "    except :\n",
    "        driver.find_element(By.CSS_SELECTOR, \"li.next > a\").click()\n"
   ]
  },
  {
   "cell_type": "markdown",
   "metadata": {},
   "source": [
    "#### only selenium"
   ]
  },
  {
   "cell_type": "code",
   "execution_count": null,
   "metadata": {},
   "outputs": [],
   "source": [
    "count=1\n",
    "while True:\n",
    "    sleep(1)\n",
    "    print(count)\n",
    "    for item in driver.find_elements(By.CSS_SELECTOR, 'a.cycle-title-link'):\n",
    "        b = item.get_attribute('text')\n",
    "        print(b)\n",
    "        print(item.get_attribute('href')) \n",
    "        list_posts.append({\n",
    "            'title': item.get_attribute('text'),\n",
    "            'link': item.get_attribute('href')\n",
    "        })\n",
    "    \n",
    "    count +=1\n",
    "    sleep(0.5)\n",
    "    try :\n",
    "        fin = driver.find_element(By.CSS_SELECTOR, \"li.next.disabled\")\n",
    "        break\n",
    "    except :\n",
    "        driver.find_element(By.CSS_SELECTOR, \"li.next > a\").click()"
   ]
  },
  {
   "cell_type": "markdown",
   "metadata": {},
   "source": [
    "進網頁爬蟲"
   ]
  },
  {
   "cell_type": "code",
   "execution_count": null,
   "metadata": {},
   "outputs": [],
   "source": [
    "import json\n",
    "import requests as req\n",
    "from bs4 import BeautifulSoup as bs\n",
    "\n",
    "\n",
    "# res = req.get('https://online.senao.com.tw/Mart/1369847') \n",
    "# soup = bs(res.text, \"lxml\")\n",
    "\n",
    "# product_title = soup.select(\"h2.product-title\")[0].get_text().strip()\n",
    "# product_desc = soup.select(\"h3.product-desc\")[0].get_text().strip()\n",
    "# product_price = soup.select(\"b.fn-xl\")[0].get_text()\n",
    "# print(f\"product_title: {product_title}\\nproduct_desc: {product_desc}\\nproduct_price: {product_price}\")\n",
    "\n",
    "\n",
    "with open('posts_data.json', 'r', encoding='utf-8') as f:\n",
    "    data = json.load(f)\n",
    "\n",
    "product_info = []\n",
    "\n",
    "product_info.clear()\n",
    "\n",
    "# 迴圈每個項目，使用 link 去抓取網頁\n",
    "for item in data:\n",
    "    url = item['link'] # 從 JSON 中取出 link 欄位\n",
    "    res = req.get(url) # 用 requests 的 get 方法把網頁抓下來\n",
    "    soup = bs(res.text, \"lxml\") # 指定 lxml 作為解析器\n",
    "\n",
    "    product_title = soup.select(\"h2.product-title\")[0].get_text().strip()\n",
    "    product_desc = soup.select(\"h3.product-desc\")[0].get_text().strip()\n",
    "    product_price = soup.select(\"b.fn-xl\")[0].get_text()\n",
    "    print(f\"product_title: {product_title}\\nproduct_desc: {product_desc}\\nproduct_price: {product_price}\")\n",
    "\n",
    "    product_info.append({\n",
    "        \"product_title\": product_title,\n",
    "        \"product_desc\": product_desc,\n",
    "        \"product_price\": product_price\n",
    "        })\n",
    "\n",
    "with open('product_info.json', 'w', encoding='utf-8') as f:\n",
    "    json.dump(product_info, f, ensure_ascii=False, indent=4)  \n",
    "    "
   ]
  },
  {
   "cell_type": "code",
   "execution_count": 29,
   "metadata": {},
   "outputs": [
    {
     "data": {
      "text/plain": [
       "[{'product_title': 'iPhone SE 128GB(2022)【A級二手機 六個月保固】',\n",
       "  'product_desc': '★4.7 吋 Retina HD 顯示器★A15 仿生晶片★支援無線充電、IP67 等級防潑抗水★主鏡頭：1200 萬像素廣角相機★前鏡頭：700 萬像素相機★Touch ID 、Apple Pay',\n",
       "  'product_price': '$8,490'}]"
      ]
     },
     "execution_count": 29,
     "metadata": {},
     "output_type": "execute_result"
    }
   ],
   "source": [
    "product_info"
   ]
  }
 ],
 "metadata": {
  "kernelspec": {
   "display_name": "web_scraping",
   "language": "python",
   "name": "python3"
  },
  "language_info": {
   "codemirror_mode": {
    "name": "ipython",
    "version": 3
   },
   "file_extension": ".py",
   "mimetype": "text/x-python",
   "name": "python",
   "nbconvert_exporter": "python",
   "pygments_lexer": "ipython3",
   "version": "3.10.15"
  }
 },
 "nbformat": 4,
 "nbformat_minor": 2
}
